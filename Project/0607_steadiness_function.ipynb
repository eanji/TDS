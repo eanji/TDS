{
 "cells": [
  {
   "cell_type": "code",
   "execution_count": 3,
   "metadata": {},
   "outputs": [],
   "source": [
    "import numpy as np\n",
    "import matplotlib.pyplot as plt\n",
    "from matplotlib import animation, cm, figure\n",
    "import pandas as pd\n",
    "import matplotlib.patheffects as path_effects\n",
    "from matplotlib.offsetbox import AnchoredText\n",
    "from matplotlib.animation import FFMpegWriter, FFMpegFileWriter, MovieWriter\n",
    "from matplotlib import animation, cm, figure\n",
    "from datetime import datetime\n",
    "import ffmpeg\n",
    "import cv2\n",
    "import pydicom\n",
    "from scipy import signal\n",
    "from IPython.display import HTML\n",
    "\n",
    "import os\n",
    "import sys\n"
   ]
  },
  {
   "cell_type": "markdown",
   "metadata": {},
   "source": [
    "### "
   ]
  },
  {
   "cell_type": "markdown",
   "metadata": {},
   "source": [
    "### Import functions from \"util.py\""
   ]
  },
  {
   "cell_type": "code",
   "execution_count": 4,
   "metadata": {},
   "outputs": [],
   "source": [
    "from util import  extract_ultrasound_from_dicom,analyse_flow_from_dicom,get_flow_map, make_animation, apply_time_filter, compose_flow_overlay, apply_alpha,calculate_scores"
   ]
  },
  {
   "cell_type": "markdown",
   "metadata": {},
   "source": [
    "### Extract pixel values from ultrasound data (3007889_0051.dcm) and time per frame"
   ]
  },
  {
   "cell_type": "code",
   "execution_count": 62,
   "metadata": {},
   "outputs": [],
   "source": [
    "us_data, timestep = extract_ultrasound_from_dicom(\"files/3007889_0051.dcm\")"
   ]
  },
  {
   "cell_type": "markdown",
   "metadata": {},
   "source": [
    "### "
   ]
  },
  {
   "cell_type": "markdown",
   "metadata": {},
   "source": [
    "# NEW PROGRESS!\n",
    "######  \n",
    "# Week 5 - June 7th\n",
    "* Group frames into windows based on the given window size\n",
    "* Generate reference windows by taking the mean pixel values of all frames in a window\n",
    "* Compute sum of squared difference between frames in each window and its reference window\n",
    "* Write a function that does the above tasks and ouputs the sum of squared differences\n",
    "#### \n",
    "###### Equations:"
   ]
  },
  {
   "cell_type": "markdown",
   "metadata": {},
   "source": [
    "![SegmentLocal](get_attachment_url.png \"equation\")"
   ]
  },
  {
   "cell_type": "markdown",
   "metadata": {},
   "source": [
    "\n",
    " \n",
    "### Make a temporary dataset with 10 frames -> `data`\n",
    "* I created a smaller dataset that consists of 10 frames to avoid computational problems for this task"
   ]
  },
  {
   "cell_type": "code",
   "execution_count": 9,
   "metadata": {},
   "outputs": [],
   "source": [
    "data = us_data[0:10]"
   ]
  },
  {
   "cell_type": "code",
   "execution_count": 10,
   "metadata": {},
   "outputs": [
    {
     "data": {
      "text/plain": [
       "(10, 674, 1024)"
      ]
     },
     "execution_count": 10,
     "metadata": {},
     "output_type": "execute_result"
    }
   ],
   "source": [
    "data.shape"
   ]
  },
  {
   "cell_type": "markdown",
   "metadata": {},
   "source": [
    "##### "
   ]
  },
  {
   "cell_type": "markdown",
   "metadata": {},
   "source": [
    "### Create `pixel windows` (groups of frames), based on the given window size"
   ]
  },
  {
   "cell_type": "code",
   "execution_count": 18,
   "metadata": {},
   "outputs": [],
   "source": [
    "# DEFINE WINDOW SIZE AND GROUP FRAMES IN ADVANCE ACCORDING TO WINDOW SIZE:\n",
    "#### In this case the window size is 2, so window 0 should have <frame 0, frame 1>, window 1 should have <frame 1, frame 2> ....\n",
    "\n",
    "window_size = 2\n",
    "pixel_window = []\n",
    "\n",
    "for i in range(len(data)- window_size):\n",
    "    window = data[i:i + window_size]\n",
    "    pixel_window.append(data[i:i + window_size])\n"
   ]
  },
  {
   "cell_type": "code",
   "execution_count": 230,
   "metadata": {},
   "outputs": [
    {
     "data": {
      "text/plain": [
       "array([[[177, 177, 177, ...,   0,   0,   0],\n",
       "        [178, 178, 178, ...,   0,   0,   0],\n",
       "        [174, 190, 169, ...,   0,   0,   0],\n",
       "        ...,\n",
       "        [  0,   0,   0, ...,   0,   0,   0],\n",
       "        [  0,   0,   0, ...,   0,   0,   0],\n",
       "        [  0,   0,   0, ...,   0,   0,   0]],\n",
       "\n",
       "       [[177, 177, 177, ...,   0,   0,   0],\n",
       "        [178, 178, 178, ...,   0,   0,   0],\n",
       "        [174, 190, 169, ...,   0,   0,   0],\n",
       "        ...,\n",
       "        [  0,   0,   0, ...,   0,   0,   0],\n",
       "        [  0,   0,   0, ...,   0,   0,   0],\n",
       "        [  0,   0,   0, ...,   0,   0,   0]]], dtype=uint8)"
      ]
     },
     "execution_count": 230,
     "metadata": {},
     "output_type": "execute_result"
    }
   ],
   "source": [
    "#### To test if this worked the way it should, I will test this out using window 5\n",
    "####       In theory, window 5 should contain <frame 5, frame 6>\n",
    "####       I created a object called \"zipped\" that contains <frame 5, frame 6> to test if they match up using 'np.array_equal'\n",
    "\n",
    "pixel_window[5]"
   ]
  },
  {
   "cell_type": "code",
   "execution_count": 305,
   "metadata": {},
   "outputs": [],
   "source": [
    "zipped = np.stack((data[5], data[6]))"
   ]
  },
  {
   "cell_type": "code",
   "execution_count": 306,
   "metadata": {
    "jupyter": {
     "source_hidden": true
    }
   },
   "outputs": [
    {
     "data": {
      "text/plain": [
       "array([[[177, 177, 177, ...,   0,   0,   0],\n",
       "        [178, 178, 178, ...,   0,   0,   0],\n",
       "        [174, 190, 169, ...,   0,   0,   0],\n",
       "        ...,\n",
       "        [  0,   0,   0, ...,   0,   0,   0],\n",
       "        [  0,   0,   0, ...,   0,   0,   0],\n",
       "        [  0,   0,   0, ...,   0,   0,   0]],\n",
       "\n",
       "       [[177, 177, 177, ...,   0,   0,   0],\n",
       "        [178, 178, 178, ...,   0,   0,   0],\n",
       "        [174, 190, 169, ...,   0,   0,   0],\n",
       "        ...,\n",
       "        [  0,   0,   0, ...,   0,   0,   0],\n",
       "        [  0,   0,   0, ...,   0,   0,   0],\n",
       "        [  0,   0,   0, ...,   0,   0,   0]]], dtype=uint8)"
      ]
     },
     "execution_count": 306,
     "metadata": {},
     "output_type": "execute_result"
    }
   ],
   "source": [
    "zipped"
   ]
  },
  {
   "cell_type": "code",
   "execution_count": 233,
   "metadata": {},
   "outputs": [
    {
     "data": {
      "text/plain": [
       "True"
      ]
     },
     "execution_count": 233,
     "metadata": {},
     "output_type": "execute_result"
    }
   ],
   "source": [
    "#### The arrays are identical\n",
    "np.array_equal(zipped, pixel_window[5])"
   ]
  },
  {
   "cell_type": "markdown",
   "metadata": {},
   "source": [
    "# "
   ]
  },
  {
   "cell_type": "markdown",
   "metadata": {},
   "source": [
    "### Create `reference window`"
   ]
  },
  {
   "cell_type": "code",
   "execution_count": 14,
   "metadata": {
    "collapsed": true,
    "jupyter": {
     "outputs_hidden": true
    }
   },
   "outputs": [
    {
     "name": "stdout",
     "output_type": "stream",
     "text": [
      "[[[177 177 177 ...   0   0   0]\n",
      "  [178 178 178 ...   0   0   0]\n",
      "  [174 190 169 ...   0   0   0]\n",
      "  ...\n",
      "  [  0   0   0 ...   0   0   0]\n",
      "  [  0   0   0 ...   0   0   0]\n",
      "  [  0   0   0 ...   0   0   0]]\n",
      "\n",
      " [[177 177 177 ...   0   0   0]\n",
      "  [178 178 178 ...   0   0   0]\n",
      "  [174 190 169 ...   0   0   0]\n",
      "  ...\n",
      "  [  0   0   0 ...   0   0   0]\n",
      "  [  0   0   0 ...   0   0   0]\n",
      "  [  0   0   0 ...   0   0   0]]]\n",
      "[[[177 177 177 ...   0   0   0]\n",
      "  [178 178 178 ...   0   0   0]\n",
      "  [174 190 169 ...   0   0   0]\n",
      "  ...\n",
      "  [  0   0   0 ...   0   0   0]\n",
      "  [  0   0   0 ...   0   0   0]\n",
      "  [  0   0   0 ...   0   0   0]]\n",
      "\n",
      " [[177 177 177 ...   0   0   0]\n",
      "  [178 178 178 ...   0   0   0]\n",
      "  [174 190 169 ...   0   0   0]\n",
      "  ...\n",
      "  [  0   0   0 ...   0   0   0]\n",
      "  [  0   0   0 ...   0   0   0]\n",
      "  [  0   0   0 ...   0   0   0]]]\n",
      "[[[177 177 177 ...   0   0   0]\n",
      "  [178 178 178 ...   0   0   0]\n",
      "  [174 190 169 ...   0   0   0]\n",
      "  ...\n",
      "  [  0   0   0 ...   0   0   0]\n",
      "  [  0   0   0 ...   0   0   0]\n",
      "  [  0   0   0 ...   0   0   0]]\n",
      "\n",
      " [[177 177 177 ...   0   0   0]\n",
      "  [178 178 178 ...   0   0   0]\n",
      "  [174 190 169 ...   0   0   0]\n",
      "  ...\n",
      "  [  0   0   0 ...   0   0   0]\n",
      "  [  0   0   0 ...   0   0   0]\n",
      "  [  0   0   0 ...   0   0   0]]]\n",
      "[[[177 177 177 ...   0   0   0]\n",
      "  [178 178 178 ...   0   0   0]\n",
      "  [174 190 169 ...   0   0   0]\n",
      "  ...\n",
      "  [  0   0   0 ...   0   0   0]\n",
      "  [  0   0   0 ...   0   0   0]\n",
      "  [  0   0   0 ...   0   0   0]]\n",
      "\n",
      " [[177 177 177 ...   0   0   0]\n",
      "  [178 178 178 ...   0   0   0]\n",
      "  [174 190 169 ...   0   0   0]\n",
      "  ...\n",
      "  [  0   0   0 ...   0   0   0]\n",
      "  [  0   0   0 ...   0   0   0]\n",
      "  [  0   0   0 ...   0   0   0]]]\n",
      "[[[177 177 177 ...   0   0   0]\n",
      "  [178 178 178 ...   0   0   0]\n",
      "  [174 190 169 ...   0   0   0]\n",
      "  ...\n",
      "  [  0   0   0 ...   0   0   0]\n",
      "  [  0   0   0 ...   0   0   0]\n",
      "  [  0   0   0 ...   0   0   0]]\n",
      "\n",
      " [[177 177 177 ...   0   0   0]\n",
      "  [178 178 178 ...   0   0   0]\n",
      "  [174 190 169 ...   0   0   0]\n",
      "  ...\n",
      "  [  0   0   0 ...   0   0   0]\n",
      "  [  0   0   0 ...   0   0   0]\n",
      "  [  0   0   0 ...   0   0   0]]]\n",
      "[[[177 177 177 ...   0   0   0]\n",
      "  [178 178 178 ...   0   0   0]\n",
      "  [174 190 169 ...   0   0   0]\n",
      "  ...\n",
      "  [  0   0   0 ...   0   0   0]\n",
      "  [  0   0   0 ...   0   0   0]\n",
      "  [  0   0   0 ...   0   0   0]]\n",
      "\n",
      " [[177 177 177 ...   0   0   0]\n",
      "  [178 178 178 ...   0   0   0]\n",
      "  [174 190 169 ...   0   0   0]\n",
      "  ...\n",
      "  [  0   0   0 ...   0   0   0]\n",
      "  [  0   0   0 ...   0   0   0]\n",
      "  [  0   0   0 ...   0   0   0]]]\n",
      "[[[177 177 177 ...   0   0   0]\n",
      "  [178 178 178 ...   0   0   0]\n",
      "  [174 190 169 ...   0   0   0]\n",
      "  ...\n",
      "  [  0   0   0 ...   0   0   0]\n",
      "  [  0   0   0 ...   0   0   0]\n",
      "  [  0   0   0 ...   0   0   0]]\n",
      "\n",
      " [[177 177 177 ...   0   0   0]\n",
      "  [178 178 178 ...   0   0   0]\n",
      "  [174 190 169 ...   0   0   0]\n",
      "  ...\n",
      "  [  0   0   0 ...   0   0   0]\n",
      "  [  0   0   0 ...   0   0   0]\n",
      "  [  0   0   0 ...   0   0   0]]]\n",
      "[[[177 177 177 ...   0   0   0]\n",
      "  [178 178 178 ...   0   0   0]\n",
      "  [174 190 169 ...   0   0   0]\n",
      "  ...\n",
      "  [  0   0   0 ...   0   0   0]\n",
      "  [  0   0   0 ...   0   0   0]\n",
      "  [  0   0   0 ...   0   0   0]]\n",
      "\n",
      " [[177 177 177 ...   0   0   0]\n",
      "  [178 178 178 ...   0   0   0]\n",
      "  [174 190 169 ...   0   0   0]\n",
      "  ...\n",
      "  [  0   0   0 ...   0   0   0]\n",
      "  [  0   0   0 ...   0   0   0]\n",
      "  [  0   0   0 ...   0   0   0]]]\n"
     ]
    }
   ],
   "source": [
    "# CREATE REFERENCE WINDOWS BY TAKING THE MEAN PIXEL VALUES OF FRAMES IN EACH WINDOW\n",
    "\n",
    "window_size = 2\n",
    "reference_window = []\n",
    "\n",
    "for i in range(len(data)- window_size):\n",
    "    window = data[i:i + window_size]\n",
    "    reference_window.append(window.mean(axis = 0))\n"
   ]
  },
  {
   "cell_type": "code",
   "execution_count": 323,
   "metadata": {},
   "outputs": [
    {
     "data": {
      "text/plain": [
       "array([[177., 177., 177., ...,   0.,   0.,   0.],\n",
       "       [178., 178., 178., ...,   0.,   0.,   0.],\n",
       "       [174., 190., 169., ...,   0.,   0.,   0.],\n",
       "       ...,\n",
       "       [  0.,   0.,   0., ...,   0.,   0.,   0.],\n",
       "       [  0.,   0.,   0., ...,   0.,   0.,   0.],\n",
       "       [  0.,   0.,   0., ...,   0.,   0.,   0.]])"
      ]
     },
     "execution_count": 323,
     "metadata": {},
     "output_type": "execute_result"
    }
   ],
   "source": [
    "#### Each reference window is the average pixel values of all the frames in that particular window\n",
    "reference_window[0]"
   ]
  },
  {
   "cell_type": "markdown",
   "metadata": {},
   "source": [
    "#### "
   ]
  },
  {
   "cell_type": "markdown",
   "metadata": {},
   "source": [
    "### Compute `sum of squared difference `"
   ]
  },
  {
   "cell_type": "code",
   "execution_count": 313,
   "metadata": {},
   "outputs": [],
   "source": [
    "# COMPUTE THE SUM OF DIFFERENCE SQUARED BETWEEN EACH WINDOW AND ITS REFERENCE WINDOW\n",
    "\n",
    "sum_diff_squared = []\n",
    "#sd = []\n",
    "\n",
    "\n",
    "for frame, reference in zip(pixel_window, reference_window):\n",
    "    sum_diff_squared.append(np.sum(np.square(np.subtract(frame, reference))))\n",
    "    #sd.append(np.std(np.square(np.subtract(frame, reference))))\n"
   ]
  },
  {
   "cell_type": "code",
   "execution_count": 314,
   "metadata": {},
   "outputs": [
    {
     "data": {
      "text/plain": [
       "[4276382.0,\n",
       " 8173670.5,\n",
       " 2920876.5,\n",
       " 2513283.5,\n",
       " 2124824.5,\n",
       " 1847891.0,\n",
       " 1121319.0,\n",
       " 1132827.0]"
      ]
     },
     "execution_count": 314,
     "metadata": {},
     "output_type": "execute_result"
    }
   ],
   "source": [
    "sum_diff_squared"
   ]
  },
  {
   "cell_type": "code",
   "execution_count": null,
   "metadata": {},
   "outputs": [],
   "source": [
    "#### A TEST TO SEE WHAT I HAVE DONE ABOVE IS CORRECT\n",
    "####    If I purposely use reference window 5 as the reference, in theory the sum of squared difference value \n",
    "####    should be the same as the above at index 5  (1847891.0)\n",
    "\n",
    "test = []\n",
    "\n",
    "for x in pixel_window:\n",
    "    test.append(np.sum(np.square(np.subtract(x,reference_window[5]))))"
   ]
  },
  {
   "cell_type": "code",
   "execution_count": 285,
   "metadata": {},
   "outputs": [
    {
     "data": {
      "text/plain": [
       "[164370020.0,\n",
       " 99401005.0,\n",
       " 46611862.0,\n",
       " 22087545.0,\n",
       " 7045166.0,\n",
       " 1847891.0,\n",
       " 4468252.0,\n",
       " 10071651.0]"
      ]
     },
     "execution_count": 285,
     "metadata": {},
     "output_type": "execute_result"
    }
   ],
   "source": [
    "test"
   ]
  },
  {
   "cell_type": "code",
   "execution_count": 315,
   "metadata": {},
   "outputs": [
    {
     "data": {
      "text/plain": [
       "True"
      ]
     },
     "execution_count": 315,
     "metadata": {},
     "output_type": "execute_result"
    }
   ],
   "source": [
    "#### The values matched up\n",
    "np.array_equal(test[5], sum_diff_squared[5])"
   ]
  },
  {
   "cell_type": "markdown",
   "metadata": {},
   "source": [
    "### "
   ]
  },
  {
   "cell_type": "markdown",
   "metadata": {},
   "source": [
    "### Make this into a `function`"
   ]
  },
  {
   "cell_type": "markdown",
   "metadata": {},
   "source": [
    "* This function takes 2 arguments: (1) `pixel ultrasound data` (2) `window size` (number of frames in a window)\n",
    "* The output produces the \"sum of squared difference\" between frames in each window with its corresponding reference window\n",
    "\n",
    "* I will also show the time it takes to use this function on different data sizes and window sizes"
   ]
  },
  {
   "cell_type": "code",
   "execution_count": 291,
   "metadata": {},
   "outputs": [],
   "source": [
    "def steadiness(pixel_data, window_size):\n",
    "    sum_diff_squared = []\n",
    "    \n",
    "    for i in range(len(pixel_data) - window_size):\n",
    "        pixel_window = pixel_data[i:i + window_size]\n",
    "        reference_window = pixel_window.mean(axis = 0)\n",
    "        \n",
    "        \n",
    "        sum_diff_squared.append(np.sum(np.square(np.subtract(pixel_window, reference_window))))\n",
    "        \n",
    "    return sum_diff_squared\n",
    "        "
   ]
  },
  {
   "cell_type": "markdown",
   "metadata": {},
   "source": [
    "#### * Testing the function on the example dataset `(total of 10 frames with window size 2)`"
   ]
  },
  {
   "cell_type": "code",
   "execution_count": 304,
   "metadata": {},
   "outputs": [],
   "source": [
    "x = steadiness(data, 2)"
   ]
  },
  {
   "cell_type": "code",
   "execution_count": 311,
   "metadata": {
    "jupyter": {
     "source_hidden": true
    }
   },
   "outputs": [
    {
     "name": "stdout",
     "output_type": "stream",
     "text": [
      "---This task takes 0.09705114364624023 seconds to run---\n"
     ]
    }
   ],
   "source": [
    "import time\n",
    "start_time = time.time()\n",
    "\n",
    "x = steadiness(data, 2)\n",
    "\n",
    "print(\"---This task takes %s seconds to run---\" % (time.time() - start_time))\n"
   ]
  },
  {
   "cell_type": "code",
   "execution_count": 293,
   "metadata": {},
   "outputs": [
    {
     "data": {
      "text/plain": [
       "[4276382.0,\n",
       " 8173670.5,\n",
       " 2920876.5,\n",
       " 2513283.5,\n",
       " 2124824.5,\n",
       " 1847891.0,\n",
       " 1121319.0,\n",
       " 1132827.0]"
      ]
     },
     "execution_count": 293,
     "metadata": {},
     "output_type": "execute_result"
    }
   ],
   "source": [
    "x"
   ]
  },
  {
   "cell_type": "markdown",
   "metadata": {},
   "source": [
    "### "
   ]
  },
  {
   "cell_type": "markdown",
   "metadata": {},
   "source": [
    "#### * Testing the function on a bigger dataset `(total of 558 frames with window size of 10)`"
   ]
  },
  {
   "cell_type": "code",
   "execution_count": 200,
   "metadata": {},
   "outputs": [],
   "source": [
    "y = steadiness(us_data, 10)"
   ]
  },
  {
   "cell_type": "code",
   "execution_count": 300,
   "metadata": {
    "jupyter": {
     "source_hidden": true
    }
   },
   "outputs": [
    {
     "name": "stdout",
     "output_type": "stream",
     "text": [
      "--- 29.29018497467041 seconds ---\n"
     ]
    }
   ],
   "source": [
    "start_time = time.time()\n",
    "\n",
    "y = steadiness(us_data, 10)\n",
    "\n",
    "print(\"--- %s seconds ---\" % (time.time() - start_time))"
   ]
  },
  {
   "cell_type": "code",
   "execution_count": 202,
   "metadata": {},
   "outputs": [
    {
     "data": {
      "text/plain": [
       "548"
      ]
     },
     "execution_count": 202,
     "metadata": {},
     "output_type": "execute_result"
    }
   ],
   "source": [
    "len(y)"
   ]
  },
  {
   "cell_type": "code",
   "execution_count": 318,
   "metadata": {},
   "outputs": [
    {
     "data": {
      "text/plain": [
       "[163400791.10000002,\n",
       " 121323451.19999993,\n",
       " 86982586.80000007,\n",
       " 79051713.2,\n",
       " 78218891.29999986,\n",
       " 80517080.19999997,\n",
       " 83597900.49999991,\n",
       " 85328621.1999999,\n",
       " 84831745.39999999,\n",
       " 82147617.00000001,\n",
       " 80932692.59999996,\n",
       " 76394313.99999993,\n",
       " 66632956.69999994,\n",
       " 61185327.50000001,\n",
       " 71139012.89999992,\n",
       " 96673042.99999999,\n",
       " 133270456.29999995,\n",
       " 175718545.80000007,\n",
       " 210046670.29999992,\n",
       " 230418245.79999986]"
      ]
     },
     "execution_count": 318,
     "metadata": {},
     "output_type": "execute_result"
    }
   ],
   "source": [
    "# Display the first 20 sum of squared differences\n",
    "y[0:20]"
   ]
  },
  {
   "cell_type": "markdown",
   "metadata": {},
   "source": [
    "##### "
   ]
  },
  {
   "cell_type": "markdown",
   "metadata": {},
   "source": [
    "#### * Testing the function on a bigger dataset `(total of 558 frames with window size of 30)`"
   ]
  },
  {
   "cell_type": "code",
   "execution_count": null,
   "metadata": {},
   "outputs": [],
   "source": [
    "z = steadiness(us_data, 30)"
   ]
  },
  {
   "cell_type": "code",
   "execution_count": 325,
   "metadata": {
    "jupyter": {
     "source_hidden": true
    }
   },
   "outputs": [
    {
     "name": "stdout",
     "output_type": "stream",
     "text": [
      "--- 129.50022888183594 seconds ---\n"
     ]
    }
   ],
   "source": [
    "start_time = time.time()\n",
    "\n",
    "z = steadiness(us_data, 30)\n",
    "\n",
    "print(\"--- %s seconds ---\" % (time.time() - start_time))"
   ]
  },
  {
   "cell_type": "code",
   "execution_count": 327,
   "metadata": {},
   "outputs": [
    {
     "data": {
      "text/plain": [
       "528"
      ]
     },
     "execution_count": 327,
     "metadata": {},
     "output_type": "execute_result"
    }
   ],
   "source": [
    "len(z)"
   ]
  },
  {
   "cell_type": "code",
   "execution_count": 326,
   "metadata": {},
   "outputs": [
    {
     "data": {
      "text/plain": [
       "[938127781.9999993,\n",
       " 937089004.2333343,\n",
       " 946059751.266668,\n",
       " 975945535.2333333,\n",
       " 1007282633.566666,\n",
       " 1037543443.9666642,\n",
       " 1065046904.433333,\n",
       " 1095671849.666667,\n",
       " 1126486028.800001,\n",
       " 1154060477.5999992,\n",
       " 1178151562.0999992,\n",
       " 1201057324.7333333,\n",
       " 1225804493.833333,\n",
       " 1259634291.9000022,\n",
       " 1296281333.3333325,\n",
       " 1330039829.3999991,\n",
       " 1355095840.9333327,\n",
       " 1361518388.9999986,\n",
       " 1349696113.866665,\n",
       " 1323833581.2333348]"
      ]
     },
     "execution_count": 326,
     "metadata": {},
     "output_type": "execute_result"
    }
   ],
   "source": [
    "# Display the first 20 sum of squared differences\n",
    "z[0:20]"
   ]
  }
 ],
 "metadata": {
  "kernelspec": {
   "display_name": "Python 3",
   "language": "python",
   "name": "python3"
  },
  "language_info": {
   "codemirror_mode": {
    "name": "ipython",
    "version": 3
   },
   "file_extension": ".py",
   "mimetype": "text/x-python",
   "name": "python",
   "nbconvert_exporter": "python",
   "pygments_lexer": "ipython3",
   "version": "3.7.3"
  }
 },
 "nbformat": 4,
 "nbformat_minor": 4
}
